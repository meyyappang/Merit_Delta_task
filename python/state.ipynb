{
 "cells": [
  {
   "cell_type": "code",
   "execution_count": 18,
   "id": "2095d7a3",
   "metadata": {},
   "outputs": [
    {
     "name": "stdout",
     "output_type": "stream",
     "text": [
      "Requirement already satisfied: pandas in c:\\python39\\lib\\site-packages (1.3.2)\n",
      "Requirement already satisfied: pytz>=2017.3 in c:\\python39\\lib\\site-packages (from pandas) (2021.1)\n",
      "Requirement already satisfied: numpy>=1.17.3 in c:\\python39\\lib\\site-packages (from pandas) (1.21.2)\n",
      "Requirement already satisfied: python-dateutil>=2.7.3 in c:\\python39\\lib\\site-packages (from pandas) (2.8.1)\n",
      "Requirement already satisfied: six>=1.5 in c:\\python39\\lib\\site-packages (from python-dateutil>=2.7.3->pandas) (1.16.0)\n"
     ]
    },
    {
     "name": "stderr",
     "output_type": "stream",
     "text": [
      "WARNING: You are using pip version 21.1.3; however, version 21.2.4 is available.\n",
      "You should consider upgrading via the 'c:\\python39\\python.exe -m pip install --upgrade pip' command.\n"
     ]
    },
    {
     "name": "stdout",
     "output_type": "stream",
     "text": [
      "Collecting xlsxwriter"
     ]
    },
    {
     "name": "stderr",
     "output_type": "stream",
     "text": [
      "WARNING: You are using pip version 21.1.3; however, version 21.2.4 is available.\n",
      "You should consider upgrading via the 'c:\\python39\\python.exe -m pip install --upgrade pip' command.\n"
     ]
    },
    {
     "name": "stdout",
     "output_type": "stream",
     "text": [
      "\n",
      "  Downloading XlsxWriter-3.0.1-py3-none-any.whl (148 kB)\n",
      "Installing collected packages: xlsxwriter\n",
      "Successfully installed xlsxwriter-3.0.1\n"
     ]
    }
   ],
   "source": [
    "import warnings\n",
    "!pip install pandas\n",
    "!pip install xlsxwriter\n",
    "import pandas as pd\n",
    "warnings.filterwarnings(\"ignore\")\n",
    "from selenium import webdriver\n",
    "from selenium.webdriver.support.ui import Select"
   ]
  },
  {
   "cell_type": "code",
   "execution_count": 26,
   "id": "0df51d97",
   "metadata": {},
   "outputs": [
    {
     "name": "stdout",
     "output_type": "stream",
     "text": [
      "Alabama 1\n",
      "Alaska 2\n",
      "Arizona 3\n",
      "Arkansas 4\n",
      "California 5\n",
      "Colorado 6\n",
      "Connecticut 7\n",
      "Delaware 8\n",
      "District of Columbia 9\n",
      "Florida 10\n",
      "Georgia 11\n",
      "Hawaii 12\n",
      "Idaho 13\n",
      "Illinois 14\n",
      "Indiana 15\n",
      "Iowa 16\n",
      "Kansas 17\n",
      "Kentucky 18\n",
      "Louisiana 19\n",
      "Maine 20\n",
      "Maryland 21\n",
      "Massachusetts 22\n",
      "Michigan 23\n",
      "Minnesota 24\n",
      "Mississippi 25\n",
      "Missouri 26\n",
      "Montana 27\n",
      "Nebraska 28\n",
      "Nevada 29\n",
      "New Hampshire 30\n",
      "New Jersey 31\n",
      "New Mexico 32\n",
      "New York 33\n",
      "North Carolina 34\n",
      "North Dakota 35\n",
      "Ohio 36\n",
      "Oklahoma 37\n",
      "Oregon 38\n",
      "Pennsylvania 39\n",
      "Rhode Island 40\n",
      "South Carolina 41\n",
      "South Dakota 42\n",
      "Tennessee 43\n",
      "Texas 44\n",
      "Utah 45\n",
      "Vermont 46\n",
      "Virginia 47\n",
      "Washington 48\n",
      "West Virginia 49\n",
      "Wisconsin 50\n",
      "Wyoming 51\n",
      "Alberta 52\n",
      "British Columbia 53\n",
      "Manitoba 54\n",
      "New Brunswick 55\n",
      "Newfoundland 56\n",
      "Northwest Territories 57\n",
      "Nova Scotia 58\n",
      "Nunavut 59\n",
      "Ontario 60\n",
      "Prince Edward Island 61\n",
      "Province of Quebec 62\n",
      "Saskatchewan 63\n",
      "Yukon Territory 64\n",
      "Aguascalientes 65\n",
      "Baja California Norte 66\n",
      "Baja California Sur 67\n",
      "Campeche 68\n",
      "Chiapas 69\n",
      "Chihuahua 70\n",
      "Coahuila 71\n",
      "Colima 72\n",
      "Distrito Federal 73\n",
      "Durango 74\n",
      "Guanajuato 75\n",
      "Guerrero 76\n",
      "Hidalgo 77\n",
      "Jalisco 78\n",
      "Mexico 79\n",
      "Michoacan 80\n",
      "Morelos 81\n",
      "Nayarit 82\n",
      "Nuevo Leon 83\n",
      "Oaxaca 84\n",
      "Puebla 85\n",
      "Queretaro 86\n",
      "Quintana Roo 87\n",
      "San Luis Potosi 88\n",
      "Sinaloa 89\n",
      "Sonora 90\n",
      "Tabasco 91\n",
      "Tamaulipas 92\n",
      "Tlaxcala 93\n",
      "Veracruz 94\n",
      "Yucatan 95\n",
      "Zacatecas 96\n"
     ]
    }
   ],
   "source": [
    "driver = webdriver.Chrome(executable_path = driverPath)\n",
    "driver.get(\"https://ai.fmcsa.dot.gov/hhg/Search.asp?ads=a&lan=en\")\n",
    "writer = pd.ExcelWriter('State.xlsx',engine = 'xlsxwriter')\n",
    "\n",
    "for i in range (1,97):\n",
    "    state=driver.find_element_by_xpath(\"//option[contains(text(),'Please select state')]//following::option[\"+str(i)+\"]\")\n",
    "    state.click()\n",
    "    d = state.text\n",
    "    print(d,i)\n",
    "    driver.find_element_by_xpath(\"//input[@name='Submit']\").click()\n",
    "    a = driver.find_elements_by_xpath(\"//tr[contains(@scope,'row')]\")\n",
    "    li= []\n",
    "    for j in a:\n",
    "        li.append(j.text.split(\"  \"))\n",
    "    driver.back()\n",
    "    df = pd.DataFrame(li,columns=[\"Name\",\"Location\",\"Type\",\"Size\"])\n",
    "    df.to_excel(writer,sheet_name = d,index = False)\n",
    "writer.save()\n"
   ]
  },
  {
   "cell_type": "code",
   "execution_count": 7,
   "id": "839d8adf",
   "metadata": {},
   "outputs": [
    {
     "data": {
      "text/plain": [
       "'C:\\\\Users\\\\Merit'"
      ]
     },
     "execution_count": 7,
     "metadata": {},
     "output_type": "execute_result"
    }
   ],
   "source": [
    "import os\n",
    "os.getcwd()\n"
   ]
  },
  {
   "cell_type": "code",
   "execution_count": null,
   "id": "cccdfc27",
   "metadata": {},
   "outputs": [],
   "source": []
  }
 ],
 "metadata": {
  "kernelspec": {
   "display_name": "Python 3 (ipykernel)",
   "language": "python",
   "name": "python3"
  },
  "language_info": {
   "codemirror_mode": {
    "name": "ipython",
    "version": 3
   },
   "file_extension": ".py",
   "mimetype": "text/x-python",
   "name": "python",
   "nbconvert_exporter": "python",
   "pygments_lexer": "ipython3",
   "version": "3.9.6"
  }
 },
 "nbformat": 4,
 "nbformat_minor": 5
}
